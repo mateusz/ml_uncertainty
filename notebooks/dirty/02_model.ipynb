{
 "cells": [
  {
   "cell_type": "code",
   "execution_count": 29,
   "metadata": {},
   "outputs": [],
   "source": [
    "import tensorflow as tf\n",
    "import pandas as pd\n",
    "import numpy as np\n",
    "from scipy import stats\n",
    "\n",
    "import matplotlib.pyplot as plt\n",
    "import seaborn as sns\n",
    "sns.set_style(\"whitegrid\")"
   ]
  },
  {
   "cell_type": "code",
   "execution_count": 30,
   "metadata": {},
   "outputs": [],
   "source": [
    "class MonteCarloDropoutNet:\n",
    "    def __init__(\n",
    "        self,\n",
    "        ids,\n",
    "        embed_size=1,\n",
    "        dense_size=32,\n",
    "        dense_dropout=0.5,\n",
    "        learning_rate=0.01\n",
    "    ):\n",
    "        self.embed_size = embed_size\n",
    "        self.dense_size = dense_size\n",
    "        self.dense_dropout = dense_dropout\n",
    "        self.learning_rate = learning_rate\n",
    "\n",
    "        corpus = tf.data.Dataset.from_tensor_slices(ids)\n",
    "        vectorization = tf.keras.layers.TextVectorization(\n",
    "            split=None,\n",
    "            max_tokens=len(ids)+2, # could be less\n",
    "            output_mode=\"int\",\n",
    "            output_sequence_length=1,\n",
    "            standardize=None\n",
    "        )\n",
    "        vectorization.adapt(corpus.batch(1024))\n",
    "        print('Vocabulary: %s' % vectorization.get_vocabulary())\n",
    "\n",
    "        input = tf.keras.Input(shape=(1,), dtype=tf.string, name=\"input\")\n",
    "        l = vectorization(input)\n",
    "        l = tf.keras.layers.Embedding(vectorization.vocabulary_size(), self.embed_size, name=\"embedding\")(l)\n",
    "        l = tf.keras.layers.Dense(self.dense_size, activation=\"relu\", name=\"features\")(l)\n",
    "        l = tf.keras.layers.Dropout(self.dense_dropout)(l, training=True)\n",
    "        l = tf.keras.layers.Dense(1, activation=\"linear\", name=\"decision\")(l)\n",
    "        self.model = tf.keras.models.Model(input, outputs=l, name=\"Net\")\n",
    "\n",
    "    def train(self, X_train, y_train, X_val, y_val):\n",
    "        batch_size = int(len(X_train)/50)\n",
    "        self.model.compile(\n",
    "            optimizer=tf.keras.optimizers.Adam(learning_rate=self.learning_rate),\n",
    "            loss=tf.keras.losses.MeanSquaredError()\n",
    "        )\n",
    "\n",
    "        es = tf.keras.callbacks.EarlyStopping(monitor='val_loss', mode='min', verbose=1, patience=1)\n",
    "        mc = tf.keras.callbacks.ModelCheckpoint('best_loss', monitor='val_loss', verbose=1, mode='min', save_best_only=True)\n",
    "\n",
    "        history = self.model.fit(\n",
    "            X_train,\n",
    "            y_train,\n",
    "            validation_data=(X_val, y_val),\n",
    "            epochs=1000,\n",
    "            batch_size=batch_size,\n",
    "            callbacks=[es,mc]\n",
    "        )\n",
    "\n",
    "        self.model = tf.keras.models.load_model('best_loss', compile=False)\n",
    "        return np.min(history.history['val_loss'])\n",
    "\n",
    "    def predict(self, X_predict):\n",
    "        return self.model.predict(X_predict, batch_size=1000)"
   ]
  },
  {
   "cell_type": "code",
   "execution_count": 61,
   "metadata": {},
   "outputs": [
    {
     "name": "stdout",
     "output_type": "stream",
     "text": [
      "Vocabulary: ['', '[UNK]', '/8', '/13', '/7', '/19', '/18', '/17', '/10', '/1', '/2', '/5', '/12', '/0', '/6', '/4', '/3', '/11', '/9', '/16', '/15', '/14']\n",
      "Epoch 1/1000\n",
      "32/51 [=================>............] - ETA: 0s - loss: 1.6750 \n",
      "Epoch 1: val_loss improved from inf to 0.64147, saving model to best_loss\n",
      "INFO:tensorflow:Assets written to: best_loss/assets\n",
      "51/51 [==============================] - 2s 36ms/step - loss: 1.3273 - val_loss: 0.6415\n",
      "Epoch 2/1000\n",
      "48/51 [===========================>..] - ETA: 0s - loss: 0.6549\n",
      "Epoch 2: val_loss improved from 0.64147 to 0.55324, saving model to best_loss\n",
      "INFO:tensorflow:Assets written to: best_loss/assets\n",
      "51/51 [==============================] - 1s 25ms/step - loss: 0.6602 - val_loss: 0.5532\n",
      "Epoch 3/1000\n",
      "47/51 [==========================>...] - ETA: 0s - loss: 0.5945\n",
      "Epoch 3: val_loss improved from 0.55324 to 0.53003, saving model to best_loss\n",
      "INFO:tensorflow:Assets written to: best_loss/assets\n",
      "51/51 [==============================] - 1s 26ms/step - loss: 0.5948 - val_loss: 0.5300\n",
      "Epoch 4/1000\n",
      "30/51 [================>.............] - ETA: 0s - loss: 0.5945\n",
      "Epoch 4: val_loss improved from 0.53003 to 0.50048, saving model to best_loss\n",
      "INFO:tensorflow:Assets written to: best_loss/assets\n",
      "51/51 [==============================] - 1s 26ms/step - loss: 0.5822 - val_loss: 0.5005\n",
      "Epoch 5/1000\n",
      "35/51 [===================>..........] - ETA: 0s - loss: 0.5831\n",
      "Epoch 5: val_loss did not improve from 0.50048\n",
      "51/51 [==============================] - 0s 3ms/step - loss: 0.5780 - val_loss: 0.5214\n",
      "Epoch 5: early stopping\n",
      "val_mse: 0.50\n"
     ]
    }
   ],
   "source": [
    "train = pd.read_csv('../../data/train.csv')[['id', 'val']].sample(frac=1.0)\n",
    "val = pd.read_csv('../../data/val.csv')[['id', 'val']].sample(frac=1.0)\n",
    "test = pd.read_csv('../../data/test.csv')[['id', 'val']].sample(frac=1.0)\n",
    "\n",
    "net = MonteCarloDropoutNet(train['id'])\n",
    "mse = net.train(train['id'], train['val'], val['id'], val['val'])\n",
    "\n",
    "print('val_mse: %.2f' % mse)\n"
   ]
  },
  {
   "cell_type": "code",
   "execution_count": 184,
   "metadata": {},
   "outputs": [
    {
     "name": "stdout",
     "output_type": "stream",
     "text": [
      "1/1 [==============================] - 0s 38ms/step\n"
     ]
    },
    {
     "data": {
      "text/plain": [
       "array([[[-0.1529    ]],\n",
       "\n",
       "       [[-0.15371723]],\n",
       "\n",
       "       [[-0.15948842]],\n",
       "\n",
       "       [[-0.05570531]],\n",
       "\n",
       "       [[-0.20040177]],\n",
       "\n",
       "       [[-0.10646893]],\n",
       "\n",
       "       [[-0.03410324]],\n",
       "\n",
       "       [[-0.18665163]],\n",
       "\n",
       "       [[ 0.04188076]],\n",
       "\n",
       "       [[-0.02588744]]], dtype=float32)"
      ]
     },
     "execution_count": 184,
     "metadata": {},
     "output_type": "execute_result"
    }
   ],
   "source": []
  },
  {
   "cell_type": "code",
   "execution_count": 76,
   "metadata": {},
   "outputs": [
    {
     "name": "stdout",
     "output_type": "stream",
     "text": [
      "31/31 [==============================] - 0s 2ms/step\n"
     ]
    },
    {
     "name": "stderr",
     "output_type": "stream",
     "text": [
      "/tmp/ipykernel_24850/1546984724.py:8: FutureWarning: The default value of numeric_only in DataFrameGroupBy.mean is deprecated. In a future version, numeric_only will default to False. Either specify numeric_only or select only columns which should be valid for the function.\n",
      "  X['pred_mean'] = preds.groupby(['index']).mean()['pred']\n",
      "/tmp/ipykernel_24850/1546984724.py:9: FutureWarning: The default value of numeric_only in DataFrameGroupBy.std is deprecated. In a future version, numeric_only will default to False. Either specify numeric_only or select only columns which should be valid for the function.\n",
      "  X['pred_std'] = preds.groupby(['index']).std()['pred']\n"
     ]
    },
    {
     "data": {
      "text/html": [
       "<div>\n",
       "<style scoped>\n",
       "    .dataframe tbody tr th:only-of-type {\n",
       "        vertical-align: middle;\n",
       "    }\n",
       "\n",
       "    .dataframe tbody tr th {\n",
       "        vertical-align: top;\n",
       "    }\n",
       "\n",
       "    .dataframe thead th {\n",
       "        text-align: right;\n",
       "    }\n",
       "</style>\n",
       "<table border=\"1\" class=\"dataframe\">\n",
       "  <thead>\n",
       "    <tr style=\"text-align: right;\">\n",
       "      <th></th>\n",
       "      <th>id</th>\n",
       "      <th>val</th>\n",
       "      <th>pred_mean</th>\n",
       "      <th>pred_std</th>\n",
       "    </tr>\n",
       "  </thead>\n",
       "  <tbody>\n",
       "    <tr>\n",
       "      <th>0</th>\n",
       "      <td>/19</td>\n",
       "      <td>0.902464</td>\n",
       "      <td>1.768729</td>\n",
       "      <td>0.434019</td>\n",
       "    </tr>\n",
       "    <tr>\n",
       "      <th>1</th>\n",
       "      <td>/17</td>\n",
       "      <td>0.242337</td>\n",
       "      <td>0.373799</td>\n",
       "      <td>0.059912</td>\n",
       "    </tr>\n",
       "    <tr>\n",
       "      <th>2</th>\n",
       "      <td>/11</td>\n",
       "      <td>1.804703</td>\n",
       "      <td>1.996526</td>\n",
       "      <td>0.531506</td>\n",
       "    </tr>\n",
       "    <tr>\n",
       "      <th>3</th>\n",
       "      <td>/19</td>\n",
       "      <td>3.466536</td>\n",
       "      <td>1.693558</td>\n",
       "      <td>0.440547</td>\n",
       "    </tr>\n",
       "    <tr>\n",
       "      <th>4</th>\n",
       "      <td>/1</td>\n",
       "      <td>-0.293621</td>\n",
       "      <td>-0.293466</td>\n",
       "      <td>0.206627</td>\n",
       "    </tr>\n",
       "    <tr>\n",
       "      <th>...</th>\n",
       "      <td>...</td>\n",
       "      <td>...</td>\n",
       "      <td>...</td>\n",
       "      <td>...</td>\n",
       "    </tr>\n",
       "    <tr>\n",
       "      <th>997</th>\n",
       "      <td>/7</td>\n",
       "      <td>0.867956</td>\n",
       "      <td>0.686335</td>\n",
       "      <td>0.128894</td>\n",
       "    </tr>\n",
       "    <tr>\n",
       "      <th>998</th>\n",
       "      <td>/19</td>\n",
       "      <td>1.790126</td>\n",
       "      <td>1.793063</td>\n",
       "      <td>0.317749</td>\n",
       "    </tr>\n",
       "    <tr>\n",
       "      <th>999</th>\n",
       "      <td>/12</td>\n",
       "      <td>-0.515637</td>\n",
       "      <td>-0.089876</td>\n",
       "      <td>0.142313</td>\n",
       "    </tr>\n",
       "    <tr>\n",
       "      <th>1000</th>\n",
       "      <td>/1</td>\n",
       "      <td>-0.438390</td>\n",
       "      <td>-0.253301</td>\n",
       "      <td>0.228501</td>\n",
       "    </tr>\n",
       "    <tr>\n",
       "      <th>1001</th>\n",
       "      <td>/8</td>\n",
       "      <td>3.159752</td>\n",
       "      <td>2.273282</td>\n",
       "      <td>0.463786</td>\n",
       "    </tr>\n",
       "  </tbody>\n",
       "</table>\n",
       "<p>1002 rows × 4 columns</p>\n",
       "</div>"
      ],
      "text/plain": [
       "       id       val  pred_mean  pred_std\n",
       "0     /19  0.902464   1.768729  0.434019\n",
       "1     /17  0.242337   0.373799  0.059912\n",
       "2     /11  1.804703   1.996526  0.531506\n",
       "3     /19  3.466536   1.693558  0.440547\n",
       "4      /1 -0.293621  -0.293466  0.206627\n",
       "...   ...       ...        ...       ...\n",
       "997    /7  0.867956   0.686335  0.128894\n",
       "998   /19  1.790126   1.793063  0.317749\n",
       "999   /12 -0.515637  -0.089876  0.142313\n",
       "1000   /1 -0.438390  -0.253301  0.228501\n",
       "1001   /8  3.159752   2.273282  0.463786\n",
       "\n",
       "[1002 rows x 4 columns]"
      ]
     },
     "execution_count": 76,
     "metadata": {},
     "output_type": "execute_result"
    }
   ],
   "source": [
    "X = val\n",
    "X = X.reset_index().drop('index', axis=1)\n",
    "preds = pd.concat(\n",
    "        [pd.DataFrame(X, columns=['id'])]*30\n",
    "    ).reset_index()\n",
    "preds['pred'] = net.predict(preds['id']).reshape(len(preds))\n",
    "\n",
    "X['pred_mean'] = preds.groupby(['index']).mean()['pred']\n",
    "X['pred_std'] = preds.groupby(['index']).std()['pred']\n",
    "\n",
    "predsagg = X\n",
    "predsagg"
   ]
  },
  {
   "cell_type": "code",
   "execution_count": 80,
   "metadata": {},
   "outputs": [
    {
     "name": "stdout",
     "output_type": "stream",
     "text": [
      "calibration: 2.25\n",
      "val_std_mean: 0.68\n",
      "val_std_std: 0.38\n"
     ]
    }
   ],
   "source": [
    "def autotune(pred_mean, pred_std, true_val):\n",
    "    onesigma = stats.norm.cdf(1, loc=0, scale=1)-stats.norm.cdf(-1, loc=0, scale=1)\n",
    "\n",
    "    calibration = 0.5\n",
    "    coverage = 0.0\n",
    "    best_cal = 101.0\n",
    "\n",
    "    for c in np.arange(1.0, 100.0, 0.25):\n",
    "        calib_std = c*pred_std\n",
    "\n",
    "        onesigma_interval = stats.norm.interval(onesigma, pred_mean, calib_std)\n",
    "        pred_low = onesigma_interval[0]\n",
    "        pred_high = onesigma_interval[1]\n",
    "        decision = pd.DataFrame({\n",
    "            'true_val': true_val,\n",
    "            'pred_low': pred_low,\n",
    "            'pred_high': pred_high,\n",
    "        })\n",
    "        decision['decision'] = (decision['true_val']>decision['pred_low']) & (decision['true_val']<decision['pred_high'])\n",
    "\n",
    "        coverage = len(decision[decision['decision']])/len(true_val)\n",
    "\n",
    "        if coverage>onesigma:\n",
    "            best_cal = c\n",
    "            break\n",
    "\n",
    "    return best_cal\n",
    "\n",
    "calibration = autotune(predsagg['pred_mean'], predsagg['pred_std'], predsagg['val'])\n",
    "print('calibration: %.2f' % calibration)\n",
    "predsagg['calib_std'] = calibration*predsagg['pred_std']\n",
    "\n",
    "print('val_std_mean: %.2f' % predsagg['calib_std'].mean())\n",
    "print('val_std_std: %.2f' % predsagg['calib_std'].std())"
   ]
  },
  {
   "cell_type": "code",
   "execution_count": 35,
   "metadata": {},
   "outputs": [],
   "source": [
    "def convert_to_boxplot(means, stds):\n",
    "    q1 = stats.norm.ppf(0.25, loc=means, scale=stds)\n",
    "    median = stats.norm.ppf(0.5, loc=means, scale=stds)\n",
    "    q3 = stats.norm.ppf(0.75, loc=means, scale=stds)\n",
    "    iqr = q3-q1\n",
    "    w_low = q1 - 1.5*iqr\n",
    "    w_high = q3 + 1.5*iqr\n",
    "\n",
    "    return np.array([w_low, q1, median, q3, w_high])"
   ]
  },
  {
   "cell_type": "code",
   "execution_count": 36,
   "metadata": {},
   "outputs": [
    {
     "name": "stdout",
     "output_type": "stream",
     "text": [
      "20/20 [==============================] - 0s 2ms/step\n"
     ]
    }
   ],
   "source": [
    "repeats = 1000\n",
    "ids = np.repeat(test['id'].sort_values().unique(), repeats)\n",
    "sim = pd.DataFrame(ids, columns=['id'])\n",
    "sim['pred'] = net.predict(sim.to_numpy()).reshape(len(ids))"
   ]
  },
  {
   "cell_type": "code",
   "execution_count": 37,
   "metadata": {},
   "outputs": [],
   "source": [
    "simagg = sim.groupby(['id']).mean().reset_index().rename({'pred': 'pred_mean'}, axis=1)\n",
    "simagg['pred_std'] = sim.groupby(['id']).std().reset_index()['pred']\n",
    "simagg['calib_std'] = calibration*simagg['pred_std']\n"
   ]
  },
  {
   "cell_type": "code",
   "execution_count": 38,
   "metadata": {},
   "outputs": [
    {
     "name": "stderr",
     "output_type": "stream",
     "text": [
      "/home/mateusz/miniconda3/envs/mlvariance/lib/python3.10/site-packages/scipy/stats/_distn_infrastructure.py:2343: RuntimeWarning: invalid value encountered in multiply\n",
      "  lower_bound = _a * scale + loc\n",
      "/home/mateusz/miniconda3/envs/mlvariance/lib/python3.10/site-packages/scipy/stats/_distn_infrastructure.py:2344: RuntimeWarning: invalid value encountered in multiply\n",
      "  upper_bound = _b * scale + loc\n"
     ]
    },
    {
     "data": {
      "image/png": "[encoded data removed]",
      "text/plain": [
       "<Figure size 640x480 with 1 Axes>"
      ]
     },
     "metadata": {},
     "output_type": "display_data"
    }
   ],
   "source": [
    "\n",
    "pred_boxplots = convert_to_boxplot(simagg['pred_mean'], simagg['calib_std'])\n",
    "\n",
    "fig, ax = plt.subplots()\n",
    "sns.boxplot(data=pred_boxplots, palette='viridis', width=0.3, showfliers=False)\n",
    "sns.boxplot(x=\"id\", y=\"val\", data=test.sort_values('id'), \n",
    "    color='0.7',\n",
    "    whis=1.5,\n",
    "    showfliers=False,\n",
    "    boxprops=dict(alpha=0.3),\n",
    "    medianprops=dict(alpha=0.3),\n",
    "    whiskerprops=dict(alpha=0.3),\n",
    "    capprops=dict(alpha=0.3),\n",
    ")\n",
    "plt.show()"
   ]
  },
  {
   "cell_type": "code",
   "execution_count": 89,
   "metadata": {},
   "outputs": [
    {
     "data": {
      "text/plain": [
       "<AxesSubplot: xlabel='bill_length_mm', ylabel='Count'>"
      ]
     },
     "execution_count": 89,
     "metadata": {},
     "output_type": "execute_result"
    },
    {
     "data": {
      "image/png": "[encoded data removed]",
      "text/plain": [
       "<Figure size 640x480 with 1 Axes>"
      ]
     },
     "metadata": {},
     "output_type": "display_data"
    }
   ],
   "source": [
    "sns.histplot(\n",
    "    penguins, x=\"bill_length_mm\", element=\"step\"\n",
    ")"
   ]
  },
  {
   "cell_type": "code",
   "execution_count": 14,
   "metadata": {},
   "outputs": [],
   "source": [
    "dists = pd.read_csv('../data/dists.csv')"
   ]
  },
  {
   "cell_type": "code",
   "execution_count": 27,
   "metadata": {},
   "outputs": [
    {
     "data": {
      "image/png": "[encoded data removed]",
      "text/plain": [
       "<Figure size 640x480 with 1 Axes>"
      ]
     },
     "metadata": {},
     "output_type": "display_data"
    }
   ],
   "source": [
    "dsorted = dists.sort_values('id')\n",
    "dists_boxplots = convert_to_boxplot(dsorted['loc'], dsorted['scale'])\n",
    "ssorted = simagg.sort_values('id')\n",
    "pred_boxplots = convert_to_boxplot(ssorted['pred_mean'], ssorted['calib_std'])\n",
    "\n",
    "fig, ax = plt.subplots()\n",
    "sns.boxplot(data=pred_boxplots, palette='viridis', width=0.3, showfliers=False)\n",
    "sns.boxplot(data=dists_boxplots,\n",
    "    color='0.7',\n",
    "    showfliers=False,\n",
    "    boxprops=dict(alpha=0.3),\n",
    "    medianprops=dict(alpha=0.3),\n",
    "    whiskerprops=dict(alpha=0.3),\n",
    "    capprops=dict(alpha=0.3),\n",
    ")\n",
    "plt.show()"
   ]
  }
 ],
 "metadata": {
  "kernelspec": {
   "display_name": "Python 3.10.6 ('mlvariance')",
   "language": "python",
   "name": "python3"
  },
  "language_info": {
   "codemirror_mode": {
    "name": "ipython",
    "version": 3
   },
   "file_extension": ".py",
   "mimetype": "text/x-python",
   "name": "python",
   "nbconvert_exporter": "python",
   "pygments_lexer": "ipython3",
   "version": "3.10.6"
  },
  "orig_nbformat": 4,
  "vscode": {
   "interpreter": {
    "hash": "27552d09a7e64f53244b4e8ab7f8570300200a066274069effe91c462ec7f4e2"
   }
  }
 },
 "nbformat": 4,
 "nbformat_minor": 2
}
