{
 "cells": [
  {
   "cell_type": "code",
   "execution_count": 1,
   "metadata": {},
   "outputs": [
    {
     "name": "stderr",
     "output_type": "stream",
     "text": [
      "2022-10-13 18:07:06.110891: I tensorflow/core/platform/cpu_feature_guard.cc:193] This TensorFlow binary is optimized with oneAPI Deep Neural Network Library (oneDNN) to use the following CPU instructions in performance-critical operations:  AVX2 FMA\n",
      "To enable them in other operations, rebuild TensorFlow with the appropriate compiler flags.\n",
      "2022-10-13 18:07:06.293322: W tensorflow/stream_executor/platform/default/dso_loader.cc:64] Could not load dynamic library 'libcudart.so.11.0'; dlerror: libcudart.so.11.0: cannot open shared object file: No such file or directory\n",
      "2022-10-13 18:07:06.293359: I tensorflow/stream_executor/cuda/cudart_stub.cc:29] Ignore above cudart dlerror if you do not have a GPU set up on your machine.\n",
      "2022-10-13 18:07:06.322305: E tensorflow/stream_executor/cuda/cuda_blas.cc:2981] Unable to register cuBLAS factory: Attempting to register factory for plugin cuBLAS when one has already been registered\n",
      "2022-10-13 18:07:07.152348: W tensorflow/stream_executor/platform/default/dso_loader.cc:64] Could not load dynamic library 'libnvinfer.so.7'; dlerror: libnvinfer.so.7: cannot open shared object file: No such file or directory\n",
      "2022-10-13 18:07:07.152429: W tensorflow/stream_executor/platform/default/dso_loader.cc:64] Could not load dynamic library 'libnvinfer_plugin.so.7'; dlerror: libnvinfer_plugin.so.7: cannot open shared object file: No such file or directory\n",
      "2022-10-13 18:07:07.152437: W tensorflow/compiler/tf2tensorrt/utils/py_utils.cc:38] TF-TRT Warning: Cannot dlopen some TensorRT libraries. If you would like to use Nvidia GPU with TensorRT, please make sure the missing libraries mentioned above are installed properly.\n"
     ]
    }
   ],
   "source": [
    "import tensorflow as tf\n",
    "import pandas as pd\n",
    "import numpy as np\n",
    "from scipy import stats\n",
    "\n",
    "import matplotlib.pyplot as plt\n",
    "import seaborn as sns\n",
    "sns.set_style(\"whitegrid\")"
   ]
  },
  {
   "cell_type": "code",
   "execution_count": 140,
   "metadata": {},
   "outputs": [],
   "source": [
    "\n",
    "class MonteCarloDropoutNet:\n",
    "    def __init__(self, ids):\n",
    "        corpus = tf.data.Dataset.from_tensor_slices(ids)\n",
    "        vectorization = tf.keras.layers.TextVectorization(\n",
    "            split=None,\n",
    "            max_tokens=len(ids)+2, # could be less\n",
    "            output_mode=\"int\",\n",
    "            output_sequence_length=1,\n",
    "            standardize=None\n",
    "        )\n",
    "        vectorization.adapt(corpus.batch(1024))\n",
    "        print('Vocabulary: %s' % vectorization.get_vocabulary())\n",
    "\n",
    "        input = tf.keras.Input(shape=(1,), dtype=tf.string, name=\"input\")\n",
    "        l = vectorization(input)\n",
    "        l = tf.keras.layers.Embedding(vectorization.vocabulary_size(), 1, name=\"embedding\")(l)\n",
    "        l = tf.keras.layers.Dense(32, activation=\"relu\", name=\"features\")(l)\n",
    "        l = tf.keras.layers.Dropout(0.5)(l, training=True)\n",
    "        l = tf.keras.layers.Dense(1, activation=\"linear\", name=\"decision\")(l)\n",
    "        self.model = tf.keras.models.Model(input, outputs=l, name=\"Net\")\n",
    "\n",
    "    def train(self, X_train, y_train, X_val, y_val):\n",
    "        batch_size = int(len(X_train)/50)\n",
    "        self.model.compile(\n",
    "            optimizer=tf.keras.optimizers.Adam(learning_rate=0.01),\n",
    "            loss=tf.keras.losses.MeanSquaredError()\n",
    "        )\n",
    "\n",
    "        es = tf.keras.callbacks.EarlyStopping(monitor='val_loss', mode='min', verbose=1, patience=1)\n",
    "        mc = tf.keras.callbacks.ModelCheckpoint('best_loss', monitor='val_loss', verbose=1, mode='min', save_best_only=True)\n",
    "\n",
    "        history = self.model.fit(\n",
    "            X_train,\n",
    "            y_train,\n",
    "            validation_data=(X_val, y_val),\n",
    "            epochs=1000,\n",
    "            batch_size=batch_size,\n",
    "            callbacks=[es,mc]\n",
    "        )\n",
    "\n",
    "        self.model = tf.keras.models.load_model('best_loss', compile=False)\n",
    "        return np.min(history.history['val_loss'])\n",
    "\n",
    "    def predict(self, X_predict):\n",
    "        return self.model.predict(X_predict, batch_size=1000)"
   ]
  },
  {
   "cell_type": "code",
   "execution_count": 141,
   "metadata": {},
   "outputs": [
    {
     "name": "stdout",
     "output_type": "stream",
     "text": [
      "Vocabulary: ['', '[UNK]', '/8', '/7', '/1', '/5', '/2', '/4', '/3', '/0', '/6', '/9']\n",
      "Epoch 1/1000\n",
      "47/51 [==========================>...] - ETA: 0s - loss: 0.5459\n",
      "Epoch 1: val_loss improved from inf to 0.51032, saving model to best_loss\n",
      "INFO:tensorflow:Assets written to: best_loss/assets\n",
      "51/51 [==============================] - 2s 29ms/step - loss: 0.5423 - val_loss: 0.5103\n",
      "Epoch 2/1000\n",
      "31/51 [=================>............] - ETA: 0s - loss: 0.4808\n",
      "Epoch 2: val_loss improved from 0.51032 to 0.50369, saving model to best_loss\n",
      "INFO:tensorflow:Assets written to: best_loss/assets\n",
      "51/51 [==============================] - 1s 24ms/step - loss: 0.4849 - val_loss: 0.5037\n",
      "Epoch 3/1000\n",
      "34/51 [===================>..........] - ETA: 0s - loss: 0.5037\n",
      "Epoch 3: val_loss did not improve from 0.50369\n",
      "51/51 [==============================] - 0s 2ms/step - loss: 0.4909 - val_loss: 0.5075\n",
      "Epoch 3: early stopping\n",
      "val_mse: 0.50\n"
     ]
    }
   ],
   "source": [
    "train = pd.read_csv('../data/train.csv')[['id', 'val']].sample(frac=1.0)\n",
    "val = pd.read_csv('../data/val.csv')[['id', 'val']].sample(frac=1.0)\n",
    "test = pd.read_csv('../data/test.csv')[['id', 'val']].sample(frac=1.0)\n",
    "\n",
    "net = MonteCarloDropoutNet(train['id'])\n",
    "mse = net.train(train['id'], train['val'], val['id'], val['val'])\n",
    "\n",
    "print('val_mse: %.2f' % mse)\n"
   ]
  },
  {
   "cell_type": "code",
   "execution_count": 142,
   "metadata": {},
   "outputs": [],
   "source": [
    "def autotune(pred_mean, pred_std, true_val):\n",
    "    onesigma = stats.norm.cdf(1, loc=0, scale=1)-stats.norm.cdf(-1, loc=0, scale=1)\n",
    "\n",
    "    calibration = 0.5\n",
    "    coverage = 0.0\n",
    "    best_cal = 101.0\n",
    "\n",
    "    for c in np.arange(1.0, 100.0, 0.25):\n",
    "        calib_std = c*pred_std\n",
    "\n",
    "        onesigma_interval = stats.norm.interval(onesigma, pred_mean, calib_std)\n",
    "        pred_low = onesigma_interval[0]\n",
    "        pred_high = onesigma_interval[1]\n",
    "        in_interval = len(true_val[(true_val>pred_low) & (true_val<pred_high)])\n",
    "\n",
    "        coverage = in_interval/len(true_val)\n",
    "\n",
    "        if coverage>onesigma:\n",
    "            best_cal = c\n",
    "            break\n",
    "\n",
    "    return best_cal"
   ]
  },
  {
   "cell_type": "code",
   "execution_count": 143,
   "metadata": {},
   "outputs": [
    {
     "name": "stdout",
     "output_type": "stream",
     "text": [
      "31/31 [==============================] - 0s 2ms/step\n"
     ]
    },
    {
     "name": "stderr",
     "output_type": "stream",
     "text": [
      "/tmp/ipykernel_95011/1769731394.py:7: FutureWarning: The default value of numeric_only in DataFrameGroupBy.mean is deprecated. In a future version, numeric_only will default to False. Either specify numeric_only or select only columns which should be valid for the function.\n",
      "  predsagg = preds.groupby(['index']).mean().reset_index().rename({'pred': 'pred_mean'}, axis=1)\n",
      "/tmp/ipykernel_95011/1769731394.py:8: FutureWarning: The default value of numeric_only in DataFrameGroupBy.std is deprecated. In a future version, numeric_only will default to False. Either specify numeric_only or select only columns which should be valid for the function.\n",
      "  predsagg['pred_std'] = preds.groupby(['index']).std().reset_index()['pred']\n"
     ]
    },
    {
     "data": {
      "text/html": [
       "<div>\n",
       "<style scoped>\n",
       "    .dataframe tbody tr th:only-of-type {\n",
       "        vertical-align: middle;\n",
       "    }\n",
       "\n",
       "    .dataframe tbody tr th {\n",
       "        vertical-align: top;\n",
       "    }\n",
       "\n",
       "    .dataframe thead th {\n",
       "        text-align: right;\n",
       "    }\n",
       "</style>\n",
       "<table border=\"1\" class=\"dataframe\">\n",
       "  <thead>\n",
       "    <tr style=\"text-align: right;\">\n",
       "      <th></th>\n",
       "      <th>pred_mean</th>\n",
       "      <th>pred_std</th>\n",
       "    </tr>\n",
       "  </thead>\n",
       "  <tbody>\n",
       "    <tr>\n",
       "      <th>0</th>\n",
       "      <td>0.607365</td>\n",
       "      <td>0.154446</td>\n",
       "    </tr>\n",
       "    <tr>\n",
       "      <th>1</th>\n",
       "      <td>0.642072</td>\n",
       "      <td>0.155938</td>\n",
       "    </tr>\n",
       "    <tr>\n",
       "      <th>2</th>\n",
       "      <td>0.653447</td>\n",
       "      <td>0.138024</td>\n",
       "    </tr>\n",
       "    <tr>\n",
       "      <th>3</th>\n",
       "      <td>-0.076964</td>\n",
       "      <td>0.116238</td>\n",
       "    </tr>\n",
       "    <tr>\n",
       "      <th>4</th>\n",
       "      <td>-0.078456</td>\n",
       "      <td>0.140979</td>\n",
       "    </tr>\n",
       "    <tr>\n",
       "      <th>...</th>\n",
       "      <td>...</td>\n",
       "      <td>...</td>\n",
       "    </tr>\n",
       "    <tr>\n",
       "      <th>1005</th>\n",
       "      <td>0.720140</td>\n",
       "      <td>0.208524</td>\n",
       "    </tr>\n",
       "    <tr>\n",
       "      <th>1006</th>\n",
       "      <td>0.734422</td>\n",
       "      <td>0.166327</td>\n",
       "    </tr>\n",
       "    <tr>\n",
       "      <th>1007</th>\n",
       "      <td>0.718452</td>\n",
       "      <td>0.153701</td>\n",
       "    </tr>\n",
       "    <tr>\n",
       "      <th>1008</th>\n",
       "      <td>0.686844</td>\n",
       "      <td>0.193334</td>\n",
       "    </tr>\n",
       "    <tr>\n",
       "      <th>1009</th>\n",
       "      <td>0.723750</td>\n",
       "      <td>0.185985</td>\n",
       "    </tr>\n",
       "  </tbody>\n",
       "</table>\n",
       "<p>1010 rows × 2 columns</p>\n",
       "</div>"
      ],
      "text/plain": [
       "      pred_mean  pred_std\n",
       "0      0.607365  0.154446\n",
       "1      0.642072  0.155938\n",
       "2      0.653447  0.138024\n",
       "3     -0.076964  0.116238\n",
       "4     -0.078456  0.140979\n",
       "...         ...       ...\n",
       "1005   0.720140  0.208524\n",
       "1006   0.734422  0.166327\n",
       "1007   0.718452  0.153701\n",
       "1008   0.686844  0.193334\n",
       "1009   0.723750  0.185985\n",
       "\n",
       "[1010 rows x 2 columns]"
      ]
     },
     "execution_count": 143,
     "metadata": {},
     "output_type": "execute_result"
    }
   ],
   "source": [
    "repeats = 30\n",
    "ids = np.repeat(val['id'], repeats)\n",
    "preds = pd.DataFrame(ids, columns=['id'])\n",
    "preds['pred'] = net.predict(preds.to_numpy()).reshape(len(ids))\n",
    "preds = preds.reset_index()\n",
    "\n",
    "predsagg = preds.groupby(['index']).mean().reset_index().rename({'pred': 'pred_mean'}, axis=1)\n",
    "predsagg['pred_std'] = preds.groupby(['index']).std().reset_index()['pred']\n",
    "predsagg = predsagg.drop(['index'], axis=1)\n",
    "predsagg"
   ]
  },
  {
   "cell_type": "code",
   "execution_count": 144,
   "metadata": {},
   "outputs": [
    {
     "name": "stdout",
     "output_type": "stream",
     "text": [
      "calibration: 6.75\n",
      "val_std_mean: 0.91\n",
      "val_std_std: 0.38\n"
     ]
    }
   ],
   "source": [
    "calibration = autotune(predsagg['pred_mean'], predsagg['pred_std'], val['val'])\n",
    "print('calibration: %.2f' % calibration)\n",
    "predsagg['calib_std'] = calibration*predsagg['pred_std']\n",
    "\n",
    "print('val_std_mean: %.2f' % predsagg['calib_std'].mean())\n",
    "print('val_std_std: %.2f' % predsagg['calib_std'].std())"
   ]
  },
  {
   "cell_type": "code",
   "execution_count": 145,
   "metadata": {},
   "outputs": [],
   "source": [
    "def convert_to_boxplot(means, stds):\n",
    "    q1 = stats.norm.ppf(0.25, loc=means, scale=stds)\n",
    "    median = stats.norm.ppf(0.5, loc=means, scale=stds)\n",
    "    q3 = stats.norm.ppf(0.75, loc=means, scale=stds)\n",
    "    iqr = q3-q1\n",
    "    w_low = q1 - 1.5*iqr\n",
    "    w_high = q3 + 1.5*iqr\n",
    "\n",
    "    return np.array([w_low, q1, median, q3, w_high])"
   ]
  },
  {
   "cell_type": "code",
   "execution_count": 146,
   "metadata": {},
   "outputs": [
    {
     "name": "stdout",
     "output_type": "stream",
     "text": [
      "10/10 [==============================] - 0s 2ms/step\n"
     ]
    }
   ],
   "source": [
    "repeats = 1000\n",
    "ids = np.repeat(test['id'].sort_values().unique(), repeats)\n",
    "sim = pd.DataFrame(ids, columns=['id'])\n",
    "sim['pred'] = net.predict(sim.to_numpy()).reshape(len(ids))"
   ]
  },
  {
   "cell_type": "code",
   "execution_count": 147,
   "metadata": {},
   "outputs": [],
   "source": [
    "simagg = sim.groupby(['id']).mean().reset_index().rename({'pred': 'pred_mean'}, axis=1)\n",
    "simagg['pred_std'] = sim.groupby(['id']).std().reset_index()['pred']\n",
    "simagg['calib_std'] = calibration*simagg['pred_std']\n"
   ]
  },
  {
   "cell_type": "code",
   "execution_count": 150,
   "metadata": {},
   "outputs": [
    {
     "data": {
      "image/png": "[encoded data removed]",
      "text/plain": [
       "<Figure size 640x480 with 1 Axes>"
      ]
     },
     "metadata": {},
     "output_type": "display_data"
    }
   ],
   "source": [
    "\n",
    "pred_boxplots = convert_to_boxplot(simagg['pred_mean'], simagg['calib_std'])\n",
    "\n",
    "fig, ax = plt.subplots()\n",
    "sns.boxplot(data=pred_boxplots, palette='viridis', width=0.3, showfliers=False)\n",
    "sns.boxplot(x=\"id\", y=\"val\", data=test.sort_values('id'), \n",
    "    color='0.7',\n",
    "    whis=1.5,\n",
    "    showfliers=False,\n",
    "    boxprops=dict(alpha=0.3),\n",
    "    medianprops=dict(alpha=0.3),\n",
    "    whiskerprops=dict(alpha=0.3),\n",
    "    capprops=dict(alpha=0.3),\n",
    ")\n",
    "plt.show()"
   ]
  },
  {
   "cell_type": "code",
   "execution_count": 155,
   "metadata": {},
   "outputs": [],
   "source": [
    "dists = pd.read_csv('../data/dists.csv')"
   ]
  },
  {
   "cell_type": "code",
   "execution_count": 156,
   "metadata": {},
   "outputs": [
    {
     "data": {
      "image/png": "[encoded data removed]",
      "text/plain": [
       "<Figure size 640x480 with 1 Axes>"
      ]
     },
     "metadata": {},
     "output_type": "display_data"
    }
   ],
   "source": [
    "dists_boxplots = convert_to_boxplot(dists['loc'], dists['scale'])\n",
    "\n",
    "fig, ax = plt.subplots()\n",
    "sns.boxplot(data=pred_boxplots, palette='viridis', width=0.3, showfliers=False)\n",
    "sns.boxplot(data=dists_boxplots,\n",
    "    color='0.7',\n",
    "    showfliers=False,\n",
    "    boxprops=dict(alpha=0.3),\n",
    "    medianprops=dict(alpha=0.3),\n",
    "    whiskerprops=dict(alpha=0.3),\n",
    "    capprops=dict(alpha=0.3),\n",
    ")\n",
    "plt.show()"
   ]
  }
 ],
 "metadata": {
  "kernelspec": {
   "display_name": "Python 3.10.6 ('mlvariance')",
   "language": "python",
   "name": "python3"
  },
  "language_info": {
   "codemirror_mode": {
    "name": "ipython",
    "version": 3
   },
   "file_extension": ".py",
   "mimetype": "text/x-python",
   "name": "python",
   "nbconvert_exporter": "python",
   "pygments_lexer": "ipython3",
   "version": "3.10.6"
  },
  "orig_nbformat": 4,
  "vscode": {
   "interpreter": {
    "hash": "27552d09a7e64f53244b4e8ab7f8570300200a066274069effe91c462ec7f4e2"
   }
  }
 },
 "nbformat": 4,
 "nbformat_minor": 2
}
